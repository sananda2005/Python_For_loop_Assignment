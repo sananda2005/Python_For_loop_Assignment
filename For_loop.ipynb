{
  "nbformat": 4,
  "nbformat_minor": 0,
  "metadata": {
    "colab": {
      "provenance": []
    },
    "kernelspec": {
      "name": "python3",
      "display_name": "Python 3"
    },
    "language_info": {
      "name": "python"
    }
  },
  "cells": [
    {
      "cell_type": "markdown",
      "source": [
        "1.Write a python progarm to print the numbers 1 to 10 using 'for' loop."
      ],
      "metadata": {
        "id": "1cjzibpbZ_E4"
      }
    },
    {
      "cell_type": "code",
      "execution_count": null,
      "metadata": {
        "colab": {
          "base_uri": "https://localhost:8080/"
        },
        "id": "ZOPhcODaZ2me",
        "outputId": "2ffc8e0d-aaa9-4185-b83f-4cdb1b981519"
      },
      "outputs": [
        {
          "output_type": "stream",
          "name": "stdout",
          "text": [
            "1\n",
            "2\n",
            "3\n",
            "4\n",
            "5\n",
            "6\n",
            "7\n",
            "8\n",
            "9\n",
            "10\n"
          ]
        }
      ],
      "source": [
        "for numbers in range(1,11):\n",
        "  print(numbers)"
      ]
    },
    {
      "cell_type": "markdown",
      "source": [
        "2.Create a program that calculates the sum of all numbers in a list using a for loop."
      ],
      "metadata": {
        "id": "9h9fAoa-fXh8"
      }
    },
    {
      "cell_type": "code",
      "source": [
        "my_list=[1,2,3,4,5,6,7,8,9,10]\n",
        "numbers=0\n",
        "for i in my_list:\n",
        "    numbers+=i\n",
        "print(numbers)\n"
      ],
      "metadata": {
        "colab": {
          "base_uri": "https://localhost:8080/"
        },
        "id": "Q-KOzjBNfiDx",
        "outputId": "f13f842d-2c8c-4ec9-86fe-aa7546ca95fb"
      },
      "execution_count": null,
      "outputs": [
        {
          "output_type": "stream",
          "name": "stdout",
          "text": [
            "55\n"
          ]
        }
      ]
    },
    {
      "cell_type": "markdown",
      "source": [
        "3.Write a program to print the characters of a string in reverse order using for loop"
      ],
      "metadata": {
        "id": "CBdOp_aYhSu9"
      }
    },
    {
      "cell_type": "code",
      "source": [
        "my_string=\" hey hello hi\"\n",
        "reverse_string=\"\"\n",
        "for char in reversed(my_string):\n",
        "  reverse_string+=char\n",
        "\n",
        "print(\"The reversed string is:\",reverse_string)"
      ],
      "metadata": {
        "id": "swsGw5f5hR3J",
        "colab": {
          "base_uri": "https://localhost:8080/"
        },
        "outputId": "d2c151f4-d800-4a3e-c73c-788b55508a43"
      },
      "execution_count": null,
      "outputs": [
        {
          "output_type": "stream",
          "name": "stdout",
          "text": [
            "The reversed string is: ih olleh yeh \n"
          ]
        }
      ]
    },
    {
      "cell_type": "markdown",
      "source": [
        "4.Develop a program that finds the factorial of a given number using for loop."
      ],
      "metadata": {
        "id": "wlI391UJuZ5Z"
      }
    },
    {
      "cell_type": "code",
      "source": [
        "num=int(input())\n",
        "factorial=1\n",
        "for i in range(1,num+1):\n",
        "  factorial *=i\n",
        "\n",
        "print(f\"The factorial of {num} is {factorial}\")"
      ],
      "metadata": {
        "colab": {
          "base_uri": "https://localhost:8080/"
        },
        "id": "N4qJHKuMskrq",
        "outputId": "e83a8751-b944-4756-db4b-f9d892bc1eb6"
      },
      "execution_count": null,
      "outputs": [
        {
          "output_type": "stream",
          "name": "stdout",
          "text": [
            "5\n",
            "The factorial of 5 is 120\n"
          ]
        }
      ]
    },
    {
      "cell_type": "markdown",
      "source": [
        "5.Create a program to write the multiplication table of a given number using for loop."
      ],
      "metadata": {
        "id": "I6xVl6spvvFS"
      }
    },
    {
      "cell_type": "code",
      "source": [
        "num=int(input())\n",
        "print(f\"The multiplication table for{num} is:\")\n",
        "for i in range(1,11):\n",
        "  result=num*i\n",
        "  print(f\"{num}*{i}={result}\")\n"
      ],
      "metadata": {
        "id": "1NBKunl4v9CC",
        "colab": {
          "base_uri": "https://localhost:8080/"
        },
        "outputId": "2b52d803-82ba-450d-b6ee-15fa55e1da8f"
      },
      "execution_count": null,
      "outputs": [
        {
          "output_type": "stream",
          "name": "stdout",
          "text": [
            "5\n",
            "The multiplication table for5 is:\n",
            "5*1=5\n",
            "5*2=10\n",
            "5*3=15\n",
            "5*4=20\n",
            "5*5=25\n",
            "5*6=30\n",
            "5*7=35\n",
            "5*8=40\n",
            "5*9=45\n",
            "5*10=50\n"
          ]
        }
      ]
    },
    {
      "cell_type": "markdown",
      "source": [
        "6.Write a program that counts the number of even and odd numbers in a list using for loop."
      ],
      "metadata": {
        "id": "Z2wK-Gfsd7mv"
      }
    },
    {
      "cell_type": "code",
      "source": [
        "my_list=[1,2,3,4,5,6,7,8,9,10]\n",
        "even=0\n",
        "odd=0\n",
        "for i in my_list:\n",
        "  if i%2==0:\n",
        "    even+=1\n",
        "  else:\n",
        "    odd+=1\n",
        "print(f\"The number of even is {even} and odd is {odd}\")"
      ],
      "metadata": {
        "colab": {
          "base_uri": "https://localhost:8080/"
        },
        "id": "hQhriPo7ek2o",
        "outputId": "1545e753-6b6f-4611-8f9f-95f8bc082868"
      },
      "execution_count": null,
      "outputs": [
        {
          "output_type": "stream",
          "name": "stdout",
          "text": [
            "The number of even is 5 and odd is 5\n"
          ]
        }
      ]
    },
    {
      "cell_type": "markdown",
      "source": [
        "7.Develop a program that prints the squares of numbers from 1 to 5 using for loop."
      ],
      "metadata": {
        "id": "U4daY3mHf_Sx"
      }
    },
    {
      "cell_type": "code",
      "source": [
        "for i in range(1,6):\n",
        "  square=i*i\n",
        "  print(f\"The square of {i} is {square}\")\n",
        "  i+=1"
      ],
      "metadata": {
        "colab": {
          "base_uri": "https://localhost:8080/"
        },
        "id": "hmGte4owlI1N",
        "outputId": "d515e970-97f9-4454-e85e-0bc380e3bdea"
      },
      "execution_count": null,
      "outputs": [
        {
          "output_type": "stream",
          "name": "stdout",
          "text": [
            "The square of 1 is 1\n",
            "The square of 2 is 4\n",
            "The square of 3 is 9\n",
            "The square of 4 is 16\n",
            "The square of 5 is 25\n"
          ]
        }
      ]
    },
    {
      "cell_type": "markdown",
      "source": [
        "8.Create a program to find the length of a string withut using the len() function."
      ],
      "metadata": {
        "id": "PZyoaSsal7gm"
      }
    },
    {
      "cell_type": "code",
      "source": [
        "my_string=\"Sananda Biswas Chatterjee\"\n",
        "string_count=0\n",
        "for i in my_string:\n",
        "  string_count+=1\n",
        "print(f\"The length of the string is {string_count}\")"
      ],
      "metadata": {
        "colab": {
          "base_uri": "https://localhost:8080/"
        },
        "id": "3jYSuGrqmHm9",
        "outputId": "0710090a-aeb2-4f6d-f874-7a93fd1ffe32"
      },
      "execution_count": null,
      "outputs": [
        {
          "output_type": "stream",
          "name": "stdout",
          "text": [
            "The length of the string is 25\n"
          ]
        }
      ]
    },
    {
      "cell_type": "markdown",
      "source": [
        "9.Write a program that calculates the average of a list of numbers using for loop."
      ],
      "metadata": {
        "id": "cktbpOdjpuZh"
      }
    },
    {
      "cell_type": "code",
      "source": [
        "my_list=[1,2,3,4,5,6,7,8,9,10]\n",
        "total_num=0\n",
        "sum_num=0\n",
        "for i in my_list:\n",
        "    total_num+=1\n",
        "    sum_num+=i\n",
        "print(f\"The average of the list is {sum_num/total_num}\")"
      ],
      "metadata": {
        "colab": {
          "base_uri": "https://localhost:8080/"
        },
        "id": "fka_J9tYpr9r",
        "outputId": "58d78d27-cfd4-41ea-c4bb-5da0222f2468"
      },
      "execution_count": null,
      "outputs": [
        {
          "output_type": "stream",
          "name": "stdout",
          "text": [
            "The average of the list is 5.5\n"
          ]
        }
      ]
    },
    {
      "cell_type": "markdown",
      "source": [
        "10.Develop a program that prints the first 'n' fibonacci numbers using for loop."
      ],
      "metadata": {
        "id": "gW6YuPyitBOe"
      }
    },
    {
      "cell_type": "code",
      "source": [
        "n=int(input(\"Enter the number of fibonacci numbers to generate: \"))\n",
        "a,b=0,1\n",
        "print(a,end=' ')\n",
        "for i in range(1,n):\n",
        "  a,b=b,a+b\n",
        "  print(a,end=\" \")"
      ],
      "metadata": {
        "colab": {
          "base_uri": "https://localhost:8080/"
        },
        "id": "MkR1FIMUslv3",
        "outputId": "3cf7b9f3-1f5a-4fdc-b8af-84c560113a97"
      },
      "execution_count": null,
      "outputs": [
        {
          "output_type": "stream",
          "name": "stdout",
          "text": [
            "Enter the number of fibonacci numbers to generate: 10\n",
            "0 1 1 2 3 5 8 13 21 34 "
          ]
        }
      ]
    },
    {
      "cell_type": "markdown",
      "source": [
        "11.Write a program to check if a given list contain any duplicates using a for loop."
      ],
      "metadata": {
        "id": "T5mVysP6vxah"
      }
    },
    {
      "cell_type": "code",
      "source": [
        "def has_duplicates(input_list):\n",
        "  for i in range(len(input_list)):\n",
        "    for j in range(i+1,len(input_list)):\n",
        "      if input_list[i]==input_list[j]:\n",
        "        return True\n",
        "  return False\n",
        "\n",
        "#input_list=[1,2,3,2,4,3,5,6]\n",
        "input_list=[1,2,3,4,5,6]\n",
        "result=has_duplicates(input_list)\n",
        "if result:\n",
        "  print(\"The list contains duplicates\")\n",
        "else:\n",
        "  print(\"The list does not contain any duplicates\")\n"
      ],
      "metadata": {
        "colab": {
          "base_uri": "https://localhost:8080/"
        },
        "id": "JRoAtrRNNFbK",
        "outputId": "8e2fad3a-4682-4921-fa02-c84f33e1ec1f"
      },
      "execution_count": null,
      "outputs": [
        {
          "output_type": "stream",
          "name": "stdout",
          "text": [
            "The list does not contain any duplicates\n"
          ]
        }
      ]
    },
    {
      "cell_type": "markdown",
      "source": [
        "12.Create a program that prints the prime numbers in a given range using for loop."
      ],
      "metadata": {
        "id": "hKeueHZ9_vDa"
      }
    },
    {
      "cell_type": "code",
      "source": [
        "def is_prime(num):\n",
        "  if num<=1:\n",
        "    return False\n",
        "  for i in range(2,int(num**0.5)+1):\n",
        "    if num%i ==0:\n",
        "      return False\n",
        "  return True\n",
        "\n",
        "start_range=int(input(\"Enter the starting range:\"))\n",
        "end_range=int(input(\"Enter the end range:\"))\n",
        "\n",
        "for i in range(start_range,end_range+1):\n",
        "  if is_prime(i):\n",
        "    print(i)\n"
      ],
      "metadata": {
        "colab": {
          "base_uri": "https://localhost:8080/"
        },
        "id": "xDHML_PwgO1w",
        "outputId": "6ae1194d-267f-437d-8e33-24930bfade1f"
      },
      "execution_count": null,
      "outputs": [
        {
          "output_type": "stream",
          "name": "stdout",
          "text": [
            "Enter the starting range:1\n",
            "Enter the end range:20\n",
            "2\n",
            "3\n",
            "5\n",
            "7\n",
            "11\n",
            "13\n",
            "17\n",
            "19\n"
          ]
        }
      ]
    },
    {
      "cell_type": "markdown",
      "source": [
        "13.Develop a program that count the vowels in a string using for loop."
      ],
      "metadata": {
        "id": "-UlwmTBwPLA1"
      }
    },
    {
      "cell_type": "code",
      "source": [
        "my_string=str(input())\n",
        "final=my_string.lower()\n",
        "vowel_count=0\n",
        "for i in final:\n",
        "  if i in \"aeiou\":\n",
        "    vowel_count+=1\n",
        "print(f\"The number of vowel in {my_string} is : {vowel_count}\")"
      ],
      "metadata": {
        "colab": {
          "base_uri": "https://localhost:8080/"
        },
        "id": "FBOakNZnPWlh",
        "outputId": "8e775c67-7b74-49f4-9590-03cc15599eea"
      },
      "execution_count": null,
      "outputs": [
        {
          "output_type": "stream",
          "name": "stdout",
          "text": [
            "sananda biswas CHAtterjee\n",
            "The number of vowel in sananda biswas CHAtterjee is : 9\n"
          ]
        }
      ]
    },
    {
      "cell_type": "markdown",
      "source": [
        "14.Write a program to find the maximum element in  2D list using nested for loop."
      ],
      "metadata": {
        "id": "U-grxcoqQ0gx"
      }
    },
    {
      "cell_type": "code",
      "source": [
        "matrix=[[10,20,30],\n",
        "         [40,50,60],\n",
        "         [70,80,90]]\n",
        "max_element=[0][0]\n",
        "for row in matrix:\n",
        "  for element in row:\n",
        "    if element > max_element:\n",
        "      max_element=element\n",
        "\n",
        "print(f\"The maximum element in 2D list is:{max_element}\")"
      ],
      "metadata": {
        "colab": {
          "base_uri": "https://localhost:8080/"
        },
        "id": "waKFLPqnQ_UB",
        "outputId": "802becdc-1d56-4a6d-903d-f1e3f9210f23"
      },
      "execution_count": null,
      "outputs": [
        {
          "output_type": "stream",
          "name": "stdout",
          "text": [
            "The maximum element in 2D list is:90\n"
          ]
        }
      ]
    },
    {
      "cell_type": "markdown",
      "source": [
        "15.Create a progrm that removes all occurances of a specific element of a list using a for loop."
      ],
      "metadata": {
        "id": "kSrtR8kgS4RX"
      }
    },
    {
      "cell_type": "code",
      "source": [
        "my_list=[1,2,3,4,5,6,7,8,9,5,10]\n",
        "item_remove=5\n",
        "new_list=[i for i in my_list if i!= item_remove]\n",
        "print(new_list)"
      ],
      "metadata": {
        "colab": {
          "base_uri": "https://localhost:8080/"
        },
        "id": "gpSE8OwnTQVK",
        "outputId": "ec6eeb83-6222-4c56-b007-aa05d0cdba83"
      },
      "execution_count": null,
      "outputs": [
        {
          "output_type": "stream",
          "name": "stdout",
          "text": [
            "[1, 2, 3, 4, 6, 7, 8, 9, 10]\n"
          ]
        }
      ]
    },
    {
      "cell_type": "markdown",
      "source": [
        "16.Develop a program that generates a multiplication table or numbers from 1-5 using nested for loop."
      ],
      "metadata": {
        "id": "ZrYZ68T3ND_q"
      }
    },
    {
      "cell_type": "code",
      "source": [
        "for i in range(1,6):\n",
        "  for j in range(1,11):\n",
        "    product=i*j\n",
        "    print(f'{i}*{j}={product}')\n",
        "  print()"
      ],
      "metadata": {
        "colab": {
          "base_uri": "https://localhost:8080/"
        },
        "id": "y7C2_WiINUyB",
        "outputId": "780c5b24-77d5-46bb-c401-bf7622882de2"
      },
      "execution_count": null,
      "outputs": [
        {
          "output_type": "stream",
          "name": "stdout",
          "text": [
            "1*1=1\n",
            "1*2=2\n",
            "1*3=3\n",
            "1*4=4\n",
            "1*5=5\n",
            "1*6=6\n",
            "1*7=7\n",
            "1*8=8\n",
            "1*9=9\n",
            "1*10=10\n",
            "\n",
            "2*1=2\n",
            "2*2=4\n",
            "2*3=6\n",
            "2*4=8\n",
            "2*5=10\n",
            "2*6=12\n",
            "2*7=14\n",
            "2*8=16\n",
            "2*9=18\n",
            "2*10=20\n",
            "\n",
            "3*1=3\n",
            "3*2=6\n",
            "3*3=9\n",
            "3*4=12\n",
            "3*5=15\n",
            "3*6=18\n",
            "3*7=21\n",
            "3*8=24\n",
            "3*9=27\n",
            "3*10=30\n",
            "\n",
            "4*1=4\n",
            "4*2=8\n",
            "4*3=12\n",
            "4*4=16\n",
            "4*5=20\n",
            "4*6=24\n",
            "4*7=28\n",
            "4*8=32\n",
            "4*9=36\n",
            "4*10=40\n",
            "\n",
            "5*1=5\n",
            "5*2=10\n",
            "5*3=15\n",
            "5*4=20\n",
            "5*5=25\n",
            "5*6=30\n",
            "5*7=35\n",
            "5*8=40\n",
            "5*9=45\n",
            "5*10=50\n",
            "\n"
          ]
        }
      ]
    },
    {
      "cell_type": "markdown",
      "source": [
        "17.Write a program that converts a of fahrenheit temp to celcius using a for loop."
      ],
      "metadata": {
        "id": "HNfUAFAtPCIa"
      }
    },
    {
      "cell_type": "code",
      "source": [
        "#F=float(input(\"Enter the temp in Fahrenheit:\"))\n",
        "#C=(F-32)*5/9\n",
        "start=0\n",
        "end=50\n",
        "step=10\n",
        "print(\"Fahrenheit\\tCelsius\")\n",
        "for fahrenheit in range(start,end+1,step):\n",
        "  celcius=(fahrenheit-32)*5/9\n",
        "  print(f\"{fahrenheit}\\t\\t{celcius:.2f}\")\n",
        "\n"
      ],
      "metadata": {
        "colab": {
          "base_uri": "https://localhost:8080/"
        },
        "id": "StPQ4s9ZPceF",
        "outputId": "699b6f83-9c52-4cad-c587-d7e2d59cdd3d"
      },
      "execution_count": null,
      "outputs": [
        {
          "output_type": "stream",
          "name": "stdout",
          "text": [
            "Fahrenheit\tCelsius\n",
            "0\t\t-17.78\n",
            "10\t\t-12.22\n",
            "20\t\t-6.67\n",
            "30\t\t-1.11\n",
            "40\t\t4.44\n",
            "50\t\t10.00\n"
          ]
        }
      ]
    },
    {
      "cell_type": "markdown",
      "source": [
        "18.Create a program to print common element from two lists using for loop."
      ],
      "metadata": {
        "id": "3eJClIc7TRw6"
      }
    },
    {
      "cell_type": "code",
      "source": [
        "list1=[1,2,3,4,5,6,7,8,9]\n",
        "list2=[23,4,45,6,56,7,78,8,89]\n",
        "print(f\"The common elements in list1 and list2 are:\")\n",
        "for i in list1:\n",
        "  for j in list2:\n",
        "    if i == j:\n",
        "      print(i)\n"
      ],
      "metadata": {
        "colab": {
          "base_uri": "https://localhost:8080/"
        },
        "id": "ye-FfhrMTeHi",
        "outputId": "eebe90fd-749f-4461-cdab-ad7d7a2da498"
      },
      "execution_count": null,
      "outputs": [
        {
          "output_type": "stream",
          "name": "stdout",
          "text": [
            "The common elements in list1 and list2 are:\n",
            "4\n",
            "6\n",
            "7\n",
            "8\n"
          ]
        }
      ]
    },
    {
      "cell_type": "markdown",
      "source": [
        "19.Develop a program that prints the patterns of right angled triangle using a for loop.use * for the pattern."
      ],
      "metadata": {
        "id": "TaRGRoubXgAa"
      }
    },
    {
      "cell_type": "code",
      "source": [
        "height=5\n",
        "for i in range(1,height+1):\n",
        "  for j in range(1,i+1):\n",
        "    print(\"*\",end=' ')\n",
        "  print()"
      ],
      "metadata": {
        "colab": {
          "base_uri": "https://localhost:8080/"
        },
        "id": "5HLaMzRkTezB",
        "outputId": "6f843bfc-a4ed-41d5-a892-ecdd62e24a24"
      },
      "execution_count": null,
      "outputs": [
        {
          "output_type": "stream",
          "name": "stdout",
          "text": [
            "* \n",
            "* * \n",
            "* * * \n",
            "* * * * \n",
            "* * * * * \n"
          ]
        }
      ]
    },
    {
      "cell_type": "code",
      "source": [
        "height=5\n",
        "for i in range(height,0,-1):\n",
        "  for j in range(1,i+1):\n",
        "    print(\"*\",end=\" \")\n",
        "  print()"
      ],
      "metadata": {
        "colab": {
          "base_uri": "https://localhost:8080/"
        },
        "id": "m71ChaJ8blPF",
        "outputId": "5e9fb352-cc4e-46c1-bce8-2ebb7de062ab"
      },
      "execution_count": null,
      "outputs": [
        {
          "output_type": "stream",
          "name": "stdout",
          "text": [
            "* * * * * \n",
            "* * * * \n",
            "* * * \n",
            "* * \n",
            "* \n"
          ]
        }
      ]
    },
    {
      "cell_type": "markdown",
      "source": [
        "20.Write a program to find the greatest common divisor (GCD) of two numbers using a for loop."
      ],
      "metadata": {
        "id": "BuJdNPvVb8JA"
      }
    },
    {
      "cell_type": "code",
      "source": [
        "def find_gcd(a,b):\n",
        "  for i in range(1,num1+1):\n",
        "    if i <= num2:\n",
        "      if num1 % i == 0 and num2 % i == 0:\n",
        "        GCD = i\n",
        "  return GCD\n",
        "\n",
        "num1=int(input('enter the 1st num:'))\n",
        "num2=int(input('enter the 2nd num:'))\n",
        "gcd=find_gcd(num1,num2)\n",
        "print(f'The gcd of {num1} and {num2} is {gcd}')"
      ],
      "metadata": {
        "colab": {
          "base_uri": "https://localhost:8080/"
        },
        "id": "wJsrZfQCcRu3",
        "outputId": "234a71f4-c251-4bfd-a344-b3c35f3e0d33"
      },
      "execution_count": null,
      "outputs": [
        {
          "output_type": "stream",
          "name": "stdout",
          "text": [
            "enter the 1st num:12\n",
            "enter the 2nd num:60\n",
            "The gcd of 12 and 60 is 12\n"
          ]
        }
      ]
    },
    {
      "cell_type": "markdown",
      "source": [
        "21.Create a program that calculates the sum of the digits of numbers in a list using a list comprehension."
      ],
      "metadata": {
        "id": "lAp6GZ-BKaxD"
      }
    },
    {
      "cell_type": "code",
      "source": [
        "test_list=[12,14,28,45]\n",
        "print(\"The original list:\",test_list)\n",
        "\n",
        "result=[]\n",
        "for i in test_list:\n",
        "  element=0\n",
        "  for j in str(i):\n",
        "    element += int(j)\n",
        "  result.append(element)\n",
        "\n",
        "print(\"The final list:\",result)"
      ],
      "metadata": {
        "colab": {
          "base_uri": "https://localhost:8080/"
        },
        "id": "-Y0VhPb4UkO0",
        "outputId": "364211da-1434-42b3-ffaf-9613442f8582"
      },
      "execution_count": null,
      "outputs": [
        {
          "output_type": "stream",
          "name": "stdout",
          "text": [
            "The original list: [12, 14, 28, 45]\n",
            "The final list: [3, 5, 10, 9]\n"
          ]
        }
      ]
    },
    {
      "cell_type": "code",
      "source": [
        "test_list=[12,14,28,45]\n",
        "print(\"The original list:\",test_list)\n",
        "result=list(map(lambda element: sum(int(j) for j in str(element)),test_list))\n",
        "print(\"The final list:\", result)"
      ],
      "metadata": {
        "colab": {
          "base_uri": "https://localhost:8080/"
        },
        "id": "Vys-kdSyXjIK",
        "outputId": "f3f5438a-3c77-41ff-ee15-acbaaa8f09f6"
      },
      "execution_count": null,
      "outputs": [
        {
          "output_type": "stream",
          "name": "stdout",
          "text": [
            "The original list: [12, 14, 28, 45]\n",
            "The final list: [3, 5, 10, 9]\n"
          ]
        }
      ]
    },
    {
      "cell_type": "markdown",
      "source": [
        "22.Write a program to find the prime factors of a given number using a for loop and list comprehension."
      ],
      "metadata": {
        "id": "S1mql1sYb19s"
      }
    },
    {
      "cell_type": "code",
      "source": [
        "import math\n",
        "def prime_factors(n):\n",
        "    while n%2 == 0:\n",
        "      print(2)\n",
        "      n = n//2\n",
        "\n",
        "    for i in range(3,int(math.sqrt(n))+1,2):\n",
        "        while n % i == 0:\n",
        "          print(i)\n",
        "          n = n//i\n",
        "\n",
        "    if n>2:\n",
        "      print(n)\n",
        "\n",
        "n=315\n",
        "prime_factors(n)"
      ],
      "metadata": {
        "colab": {
          "base_uri": "https://localhost:8080/"
        },
        "id": "5Hg3XNfBcGkj",
        "outputId": "5c907754-c376-41c1-fe1a-6b2471abdca6"
      },
      "execution_count": null,
      "outputs": [
        {
          "output_type": "stream",
          "name": "stdout",
          "text": [
            "3\n",
            "3\n",
            "5\n",
            "7\n"
          ]
        }
      ]
    },
    {
      "cell_type": "markdown",
      "source": [
        "23. Develop a program that extracts unique elements from a list and stores them in a new list using a list comprehension."
      ],
      "metadata": {
        "id": "5TJMnUISqmEf"
      }
    },
    {
      "cell_type": "code",
      "source": [
        "my_list = [1,2,2,3,4,4,4,5,6,6,7,8,4,5]\n",
        "\n",
        "unique_ele = [x for x in my_list if my_list.count(x) == 1]\n",
        "\n",
        "print(unique_ele)"
      ],
      "metadata": {
        "colab": {
          "base_uri": "https://localhost:8080/"
        },
        "id": "-dA3prY0wNbY",
        "outputId": "58856dc2-3546-4e5e-a9b1-0658f6cbae45"
      },
      "execution_count": null,
      "outputs": [
        {
          "output_type": "stream",
          "name": "stdout",
          "text": [
            "[1, 3, 7, 8]\n"
          ]
        }
      ]
    },
    {
      "cell_type": "markdown",
      "source": [
        "24. Create a program that generates a list of all palindromic numbers up to a specified limit using a list comprehension."
      ],
      "metadata": {
        "id": "QxZtiPhXTq6U"
      }
    },
    {
      "cell_type": "code",
      "source": [
        "def is_palindrome(number):\n",
        "    # Function to check if a number is a palindrome\n",
        "    return str(number) == str(number)[::-1]\n",
        "\n",
        "def generate_palindromic_numbers(limit):\n",
        "    # Generate a list of palindromic numbers up to the specified limit\n",
        "    palindromic_numbers = [num for num in range(limit + 1) if is_palindrome(num)]\n",
        "    return palindromic_numbers\n",
        "\n",
        "# Example usage:\n",
        "limit = 100\n",
        "palindromic_numbers_list = generate_palindromic_numbers(limit)\n",
        "\n",
        "print(f\"Palindromic Numbers up to {limit}:\")\n",
        "print(palindromic_numbers_list)"
      ],
      "metadata": {
        "colab": {
          "base_uri": "https://localhost:8080/"
        },
        "id": "IO-WetI-Yopq",
        "outputId": "0def7ab3-b551-420b-a77e-17f81bbe33bb"
      },
      "execution_count": null,
      "outputs": [
        {
          "output_type": "stream",
          "name": "stdout",
          "text": [
            "Palindromic Numbers up to 100:\n",
            "[0, 1, 2, 3, 4, 5, 6, 7, 8, 9, 11, 22, 33, 44, 55, 66, 77, 88, 99]\n"
          ]
        }
      ]
    },
    {
      "cell_type": "markdown",
      "source": [
        "25. Write a program to flatten a nested list using list comprehension."
      ],
      "metadata": {
        "id": "_FIJUAlmZDfO"
      }
    },
    {
      "cell_type": "code",
      "source": [
        "def flatten_nested_list(nested_list):\n",
        "    # Use list comprehension to flatten the nested list\n",
        "    flattened_list = [element for sublist in nested_list for element in sublist]\n",
        "    return flattened_list\n",
        "\n",
        "# Example usage:\n",
        "nested_list = [[1, 2, 3], [4, 5], [6, 7, 8]]\n",
        "flattened_list = flatten_nested_list(nested_list)\n",
        "\n",
        "print(\"Nested List:\", nested_list)\n",
        "print(\"Flattened List:\", flattened_list)"
      ],
      "metadata": {
        "colab": {
          "base_uri": "https://localhost:8080/"
        },
        "id": "xMsRXYPoZKAi",
        "outputId": "d8ceb053-8208-48ef-a6e8-f9d6947af2f8"
      },
      "execution_count": null,
      "outputs": [
        {
          "output_type": "stream",
          "name": "stdout",
          "text": [
            "Nested List: [[1, 2, 3], [4, 5], [6, 7, 8]]\n",
            "Flattened List: [1, 2, 3, 4, 5, 6, 7, 8]\n"
          ]
        }
      ]
    },
    {
      "cell_type": "markdown",
      "source": [
        "26. Develop a program that computes the sum of even and odd numbers in a list separately using list comprehension.\n"
      ],
      "metadata": {
        "id": "YF7RAlgPasvv"
      }
    },
    {
      "cell_type": "code",
      "source": [
        "def sum_even_odd(numbers):\n",
        "    # Use list comprehension to separate even and odd numbers and compute their sums\n",
        "    even_sum = sum([num for num in numbers if num % 2 == 0])\n",
        "    odd_sum = sum([num for num in numbers if num % 2 != 0])\n",
        "    return even_sum, odd_sum\n",
        "\n",
        "# Example usage:\n",
        "number_list = [1, 2, 3, 4, 5, 6, 7, 8, 9, 10]\n",
        "even_sum, odd_sum = sum_even_odd(number_list)\n",
        "\n",
        "print(\"Original List:\", number_list)\n",
        "print(\"Sum of Even Numbers:\", even_sum)\n",
        "print(\"Sum of Odd Numbers:\", odd_sum)"
      ],
      "metadata": {
        "colab": {
          "base_uri": "https://localhost:8080/"
        },
        "id": "3x-FMqZRjdQ-",
        "outputId": "37685a39-36fd-45f1-f471-ee182f7cfd5c"
      },
      "execution_count": null,
      "outputs": [
        {
          "output_type": "stream",
          "name": "stdout",
          "text": [
            "Original List: [1, 2, 3, 4, 5, 6, 7, 8, 9, 10]\n",
            "Sum of Even Numbers: 30\n",
            "Sum of Odd Numbers: 25\n"
          ]
        }
      ]
    },
    {
      "cell_type": "markdown",
      "source": [
        "27. Create a program that generates a list of squares of odd numbers between 1 and 10 using list comprehension.\n"
      ],
      "metadata": {
        "id": "XPT7hiH3j7jS"
      }
    },
    {
      "cell_type": "code",
      "source": [
        "squares_of_odd_numbers = [x**2 for x in range(1, 11) if x % 2 != 0]\n",
        "\n",
        "# Print the result\n",
        "print(\"Squares of Odd Numbers between 1 and 10:\", squares_of_odd_numbers)"
      ],
      "metadata": {
        "colab": {
          "base_uri": "https://localhost:8080/"
        },
        "id": "Hvdb4RN0kGOB",
        "outputId": "7a438c74-1dab-4581-c0ab-bc9f94829a95"
      },
      "execution_count": null,
      "outputs": [
        {
          "output_type": "stream",
          "name": "stdout",
          "text": [
            "Squares of Odd Numbers between 1 and 10: [1, 9, 25, 49, 81]\n"
          ]
        }
      ]
    },
    {
      "cell_type": "markdown",
      "source": [
        "28. Write a program that combines two lists into a dictionary using list comprehension."
      ],
      "metadata": {
        "id": "Y2MxX1qck3hM"
      }
    },
    {
      "cell_type": "code",
      "source": [
        "keys = ['name', 'age', 'city']\n",
        "values = ['John', 25, 'New York']\n",
        "\n",
        "# Combine the lists into a dictionary using list comprehension\n",
        "combined_dict = {keys[i]: values[i] for i in range(min(len(keys), len(values)))}\n",
        "\n",
        "# Print the resulting dictionary\n",
        "print(\"Combined Dictionary:\", combined_dict)"
      ],
      "metadata": {
        "colab": {
          "base_uri": "https://localhost:8080/"
        },
        "id": "TyKHtsUik_EG",
        "outputId": "531e28b4-8277-4aed-a0bc-887f6caeebc0"
      },
      "execution_count": null,
      "outputs": [
        {
          "output_type": "stream",
          "name": "stdout",
          "text": [
            "Combined Dictionary: {'name': 'John', 'age': 25, 'city': 'New York'}\n"
          ]
        }
      ]
    },
    {
      "cell_type": "markdown",
      "source": [
        "29. Develop a program that extracts the vowels from a string and stores them in a list using list comprehension."
      ],
      "metadata": {
        "id": "MxlWGCFJlYAG"
      }
    },
    {
      "cell_type": "code",
      "source": [
        "def extract_vowels(input_string):\n",
        "    # Use list comprehension to extract vowels from the input string\n",
        "    vowels = [char for char in input_string if char.lower() in 'aeiou']\n",
        "\n",
        "    return vowels\n",
        "\n",
        "# Example usage:\n",
        "input_string = \"Hello, World!\"\n",
        "vowels_list = extract_vowels(input_string)\n",
        "\n",
        "print(\"Original String:\", input_string)\n",
        "print(\"Vowels List:\", vowels_list)"
      ],
      "metadata": {
        "colab": {
          "base_uri": "https://localhost:8080/"
        },
        "id": "SFvVOshvldMT",
        "outputId": "084402c7-47d0-4b25-e44a-7a9740d18fbe"
      },
      "execution_count": null,
      "outputs": [
        {
          "output_type": "stream",
          "name": "stdout",
          "text": [
            "Original String: Hello, World!\n",
            "Vowels List: ['e', 'o', 'o']\n"
          ]
        }
      ]
    },
    {
      "cell_type": "markdown",
      "source": [
        "30. Create a program that removes all non-numeric characters from a list of strings using list comprehension."
      ],
      "metadata": {
        "id": "ch0GqztQmA1q"
      }
    },
    {
      "cell_type": "code",
      "source": [
        "def remove_non_numeric(strings_list):\n",
        "    # Use list comprehension to remove non-numeric characters from each string\n",
        "    numeric_strings = [''.join(char for char in string if char.isnumeric()) for string in strings_list]\n",
        "\n",
        "    return numeric_strings\n",
        "\n",
        "# Example usage:\n",
        "strings_list = [\"abc123\", \"45def\", \"789ghi\", \"jkl\"]\n",
        "numeric_strings_list = remove_non_numeric(strings_list)\n",
        "\n",
        "print(\"Original List of Strings:\", strings_list)\n",
        "print(\"List with Non-Numeric Characters Removed:\", numeric_strings_list)"
      ],
      "metadata": {
        "colab": {
          "base_uri": "https://localhost:8080/"
        },
        "id": "-R5CTAaOmH__",
        "outputId": "aa93a3c2-789c-4c01-dc55-dfc367c2fa27"
      },
      "execution_count": null,
      "outputs": [
        {
          "output_type": "stream",
          "name": "stdout",
          "text": [
            "Original List of Strings: ['abc123', '45def', '789ghi', 'jkl']\n",
            "List with Non-Numeric Characters Removed: ['123', '45', '789', '']\n"
          ]
        }
      ]
    },
    {
      "cell_type": "markdown",
      "source": [
        "31. Write a program to generate a list of prime numbers using the Sieve of Eratosthenes algorithm and list comprehension."
      ],
      "metadata": {
        "id": "jCb9Si_VmvDL"
      }
    },
    {
      "cell_type": "code",
      "source": [
        "def sieve_of_eratosthenes(limit):\n",
        "    # Create a boolean list to track whether each number is prime or not\n",
        "    is_prime = [True] * (limit + 1)\n",
        "    is_prime[0] = is_prime[1] = False  # 0 and 1 are not prime numbers\n",
        "\n",
        "    # Apply the Sieve of Eratosthenes algorithm\n",
        "    for number in range(2, int(limit**0.5) + 1):\n",
        "        if is_prime[number]:\n",
        "            # Mark multiples of the current prime number as not prime\n",
        "            is_prime[number * number : limit + 1 : number] = [False] * len(range(number * number, limit + 1, number))\n",
        "\n",
        "    # Use list comprehension to create a list of prime numbers\n",
        "    primes = [number for number in range(2, limit + 1) if is_prime[number]]\n",
        "\n",
        "    return primes\n",
        "\n",
        "# Example usage:\n",
        "limit = 50\n",
        "prime_numbers_list = sieve_of_eratosthenes(limit)\n",
        "\n",
        "print(f\"Prime Numbers up to {limit}:\")\n",
        "print(prime_numbers_list)"
      ],
      "metadata": {
        "colab": {
          "base_uri": "https://localhost:8080/"
        },
        "id": "-5ShQv34m3ef",
        "outputId": "0740a494-d52b-48d8-fda3-951fa9daef98"
      },
      "execution_count": null,
      "outputs": [
        {
          "output_type": "stream",
          "name": "stdout",
          "text": [
            "Prime Numbers up to 50:\n",
            "[2, 3, 5, 7, 11, 13, 17, 19, 23, 29, 31, 37, 41, 43, 47]\n"
          ]
        }
      ]
    },
    {
      "cell_type": "markdown",
      "source": [
        "32. Create a program that generates a list of all Pythagorean triplets up to a specified limit using list comprehension."
      ],
      "metadata": {
        "id": "iTtBMyYh1d-R"
      }
    },
    {
      "cell_type": "code",
      "source": [
        "def generate_pythagorean_triplets(limit):\n",
        "    # Use list comprehension to generate Pythagorean triplets\n",
        "    triplets = [(a, b, c) for a in range(1, limit + 1) for b in range(a, limit + 1) for c in range(b, limit + 1) if a**2 + b**2 == c**2]\n",
        "\n",
        "    return triplets\n",
        "\n",
        "# Example usage:\n",
        "limit = 20\n",
        "pythagorean_triplets_list = generate_pythagorean_triplets(limit)\n",
        "\n",
        "print(f\"Pythagorean Triplets up to {limit}:\")\n",
        "print(pythagorean_triplets_list)"
      ],
      "metadata": {
        "colab": {
          "base_uri": "https://localhost:8080/"
        },
        "id": "F7BYb8oy1lRR",
        "outputId": "6c890773-1cde-4664-f10a-56ead2726b04"
      },
      "execution_count": null,
      "outputs": [
        {
          "output_type": "stream",
          "name": "stdout",
          "text": [
            "Pythagorean Triplets up to 20:\n",
            "[(3, 4, 5), (5, 12, 13), (6, 8, 10), (8, 15, 17), (9, 12, 15), (12, 16, 20)]\n"
          ]
        }
      ]
    },
    {
      "cell_type": "markdown",
      "source": [
        "33. Develop a program that generates a list of all possible combinations of two lists using list comprehension."
      ],
      "metadata": {
        "id": "Vc1y9Mf-2vz9"
      }
    },
    {
      "cell_type": "code",
      "source": [
        "def generate_combinations(list1, list2):\n",
        "    # Use list comprehension to generate all combinations of elements from two lists\n",
        "    combinations = [(x, y) for x in list1 for y in list2]\n",
        "\n",
        "    return combinations\n",
        "\n",
        "# Example usage:\n",
        "list_a = [1, 2, 3]\n",
        "list_b = ['a', 'b', 'c']\n",
        "combinations_list = generate_combinations(list_a, list_b)\n",
        "\n",
        "print(\"List A:\", list_a)\n",
        "print(\"List B:\", list_b)\n",
        "print(\"All Combinations:\", combinations_list)"
      ],
      "metadata": {
        "colab": {
          "base_uri": "https://localhost:8080/"
        },
        "id": "X3-TA6KD235i",
        "outputId": "e269a887-a60f-4120-dc6b-c2cf173178ec"
      },
      "execution_count": null,
      "outputs": [
        {
          "output_type": "stream",
          "name": "stdout",
          "text": [
            "List A: [1, 2, 3]\n",
            "List B: ['a', 'b', 'c']\n",
            "All Combinations: [(1, 'a'), (1, 'b'), (1, 'c'), (2, 'a'), (2, 'b'), (2, 'c'), (3, 'a'), (3, 'b'), (3, 'c')]\n"
          ]
        }
      ]
    },
    {
      "cell_type": "markdown",
      "source": [
        "34. Write a program that calculates the mean, median, and mode of a list of numbers using list comprehension."
      ],
      "metadata": {
        "id": "bKGgplpg4Zbs"
      }
    },
    {
      "cell_type": "code",
      "source": [
        "from statistics import mean, median, mode\n",
        "\n",
        "def calculate_mean_median_mode(numbers):\n",
        "    # Calculate mean using list comprehension\n",
        "    mean_value = mean(numbers)\n",
        "\n",
        "    # Calculate median using list comprehension\n",
        "    median_value = median(numbers)\n",
        "\n",
        "    # Calculate mode using list comprehension\n",
        "    mode_value = mode(numbers)\n",
        "\n",
        "    return mean_value, median_value, mode_value\n",
        "\n",
        "# Example usage:\n",
        "number_list = [1, 2, 2, 3, 4, 4, 5, 6, 7, 8, 9, 5]\n",
        "mean_val, median_val, mode_val = calculate_mean_median_mode(number_list)\n",
        "\n",
        "print(\"Original List of Numbers:\", number_list)\n",
        "print(\"Mean:\", mean_val)\n",
        "print(\"Median:\", median_val)\n",
        "print(\"Mode:\", mode_val)"
      ],
      "metadata": {
        "colab": {
          "base_uri": "https://localhost:8080/"
        },
        "id": "W3SP0pM24hv7",
        "outputId": "e883edaf-72a3-4793-ab34-56d887ced948"
      },
      "execution_count": null,
      "outputs": [
        {
          "output_type": "stream",
          "name": "stdout",
          "text": [
            "Original List of Numbers: [1, 2, 2, 3, 4, 4, 5, 6, 7, 8, 9, 5]\n",
            "Mean: 4.666666666666667\n",
            "Median: 4.5\n",
            "Mode: 2\n"
          ]
        }
      ]
    },
    {
      "cell_type": "markdown",
      "source": [
        "35. Create a program that generates Pascal's triangle up to a specified number of rows using list comprehension."
      ],
      "metadata": {
        "id": "-fj79zMT6RiN"
      }
    },
    {
      "cell_type": "code",
      "source": [
        "def generate_pascals_triangle(rows):\n",
        "    triangle = [[1] * row for row in range(1, rows + 1)]\n",
        "\n",
        "    for row in range(2, rows):\n",
        "        for i in range(1, row):\n",
        "            triangle[row][i] = triangle[row-1][i-1] + triangle[row-1][i]\n",
        "\n",
        "    return triangle\n",
        "\n",
        "# Example usage:\n",
        "num_rows = 5\n",
        "pascals_triangle = generate_pascals_triangle(num_rows)\n",
        "\n",
        "# Print Pascal's Triangle\n",
        "for row in pascals_triangle:\n",
        "    print(row)"
      ],
      "metadata": {
        "colab": {
          "base_uri": "https://localhost:8080/"
        },
        "id": "1nfktR__6YRk",
        "outputId": "68892837-db18-44c2-d548-62396134ea1f"
      },
      "execution_count": null,
      "outputs": [
        {
          "output_type": "stream",
          "name": "stdout",
          "text": [
            "[1]\n",
            "[1, 1]\n",
            "[1, 2, 1]\n",
            "[1, 3, 3, 1]\n",
            "[1, 4, 6, 4, 1]\n"
          ]
        }
      ]
    },
    {
      "cell_type": "markdown",
      "source": [
        "36. Develop a program that calculates the sum of the digits of a factorial of numbers from 1 to 5 using list comprehension."
      ],
      "metadata": {
        "id": "BCNKTYvQ_MTB"
      }
    },
    {
      "cell_type": "code",
      "source": [
        "from math import factorial\n",
        "\n",
        "def sum_of_digits(number):\n",
        "    # Calculate the sum of digits of a number\n",
        "    return sum(int(digit) for digit in str(number))\n",
        "\n",
        "# Calculate the sum of digits for factorials of numbers from 1 to 5 using list comprehension\n",
        "sums_of_digits = [sum_of_digits(factorial(i)) for i in range(1, 6)]\n",
        "\n",
        "# Print the correct results\n",
        "for i, result in enumerate(sums_of_digits, start=1):\n",
        "    print(f\"Sum of digits for the factorial of {i}: {result}\")"
      ],
      "metadata": {
        "colab": {
          "base_uri": "https://localhost:8080/"
        },
        "id": "yx30DOdmCbDf",
        "outputId": "745462b7-8212-41ad-b0bf-06742b3070cf"
      },
      "execution_count": null,
      "outputs": [
        {
          "output_type": "stream",
          "name": "stdout",
          "text": [
            "Sum of digits for the factorial of 1: 1\n",
            "Sum of digits for the factorial of 2: 2\n",
            "Sum of digits for the factorial of 3: 6\n",
            "Sum of digits for the factorial of 4: 6\n",
            "Sum of digits for the factorial of 5: 3\n"
          ]
        }
      ]
    },
    {
      "cell_type": "markdown",
      "source": [
        "37. Write a program that finds the longest word in a sentence using list comprehension.\n"
      ],
      "metadata": {
        "id": "eXZLqXWKQnU4"
      }
    },
    {
      "cell_type": "code",
      "source": [
        "def longest_word(sentence):\n",
        "    # Use list comprehension to get all words in the sentence\n",
        "    words = [word.strip(\".,?!\") for word in sentence.split()]\n",
        "\n",
        "    # Find the longest word using max and len functions\n",
        "    longest = max(words, key=len)\n",
        "\n",
        "    return longest\n",
        "\n",
        "# Example usage:\n",
        "input_sentence = \"This is an example sentence with some long words.\"\n",
        "result = longest_word(input_sentence)\n",
        "\n",
        "print(\"Input Sentence:\", input_sentence)\n",
        "print(\"Longest Word:\", result)"
      ],
      "metadata": {
        "colab": {
          "base_uri": "https://localhost:8080/"
        },
        "id": "bQAYHBojUokG",
        "outputId": "1ad8e6db-ea16-495c-8612-af8b69671172"
      },
      "execution_count": null,
      "outputs": [
        {
          "output_type": "stream",
          "name": "stdout",
          "text": [
            "Input Sentence: This is an example sentence with some long words.\n",
            "Longest Word: sentence\n"
          ]
        }
      ]
    },
    {
      "cell_type": "markdown",
      "source": [
        "38. Create a program that filters a list of strings to include only those with more than three vowels using list comprehension."
      ],
      "metadata": {
        "id": "XpJC1UxUU5nM"
      }
    },
    {
      "cell_type": "code",
      "source": [
        "def count_vowels(word):\n",
        "    # Count the number of vowels in a word\n",
        "    return sum(1 for char in word if char.lower() in 'aeiou')\n",
        "\n",
        "def filter_strings_by_vowels(string_list, threshold=3):\n",
        "    # Use list comprehension to filter strings with more than three vowels\n",
        "    filtered_strings = [word for word in string_list if count_vowels(word) > threshold]\n",
        "\n",
        "    return filtered_strings\n",
        "\n",
        "# Example usage:\n",
        "input_strings = [\"hello\", \"world\", \"python\", \"programming\", \"list\", \"comprehension\"]\n",
        "filtered_result = filter_strings_by_vowels(input_strings)\n",
        "\n",
        "print(\"Input Strings:\", input_strings)\n",
        "print(\"Filtered Strings (more than three vowels):\", filtered_result)"
      ],
      "metadata": {
        "colab": {
          "base_uri": "https://localhost:8080/"
        },
        "id": "LYm4_AvIVBQq",
        "outputId": "e67b594e-4b4b-4443-ec03-64756d45b194"
      },
      "execution_count": null,
      "outputs": [
        {
          "output_type": "stream",
          "name": "stdout",
          "text": [
            "Input Strings: ['hello', 'world', 'python', 'programming', 'list', 'comprehension']\n",
            "Filtered Strings (more than three vowels): ['comprehension']\n"
          ]
        }
      ]
    },
    {
      "cell_type": "markdown",
      "source": [
        "39. Develop a program that calculates the sum of the digits of numbers from 1 to 1000 using list comprehension."
      ],
      "metadata": {
        "id": "yHaOAJSoVPzb"
      }
    },
    {
      "cell_type": "code",
      "source": [
        "def sum_of_digits(number):\n",
        "    # Calculate the sum of digits of a number\n",
        "    return sum(int(digit) for digit in str(number))\n",
        "\n",
        "# Use list comprehension to calculate the sum of digits for numbers from 1 to 1000\n",
        "sums_of_digits = [sum_of_digits(i) for i in range(1, 1001)]\n",
        "\n",
        "# Calculate the total sum of digits\n",
        "total_sum = sum(sums_of_digits)\n",
        "\n",
        "print(\"Sum of digits for numbers from 1 to 1000 using list comprehension:\", total_sum)"
      ],
      "metadata": {
        "colab": {
          "base_uri": "https://localhost:8080/"
        },
        "id": "DG4LiMAGVXdc",
        "outputId": "fb641226-630c-4895-b8a0-a432da2214f5"
      },
      "execution_count": null,
      "outputs": [
        {
          "output_type": "stream",
          "name": "stdout",
          "text": [
            "Sum of digits for numbers from 1 to 1000 using list comprehension: 13501\n"
          ]
        }
      ]
    },
    {
      "cell_type": "markdown",
      "source": [
        "40. Write a program that generates a list of prime palindromic numbers using list comprehension."
      ],
      "metadata": {
        "id": "X4zn_c_5VmVi"
      }
    },
    {
      "cell_type": "code",
      "source": [
        "def is_prime(number):\n",
        "    # Check if a number is prime\n",
        "    if number < 2:\n",
        "        return False\n",
        "    for i in range(2, int(number**0.5) + 1):\n",
        "        if number % i == 0:\n",
        "            return False\n",
        "    return True\n",
        "\n",
        "def is_palindrome(number):\n",
        "    # Check if a number is a palindrome\n",
        "    return str(number) == str(number)[::-1]\n",
        "\n",
        "# Use list comprehension to generate a list of prime palindromic numbers\n",
        "prime_palindromes = [num for num in range(1, 1000) if is_prime(num) and is_palindrome(num)]\n",
        "\n",
        "# Print the result\n",
        "print(\"Prime Palindromic Numbers:\", prime_palindromes)"
      ],
      "metadata": {
        "colab": {
          "base_uri": "https://localhost:8080/"
        },
        "id": "tNRuncIgWsHQ",
        "outputId": "40985b89-3e1f-49c6-be1c-081c468da80b"
      },
      "execution_count": null,
      "outputs": [
        {
          "output_type": "stream",
          "name": "stdout",
          "text": [
            "Prime Palindromic Numbers: [2, 3, 5, 7, 11, 101, 131, 151, 181, 191, 313, 353, 373, 383, 727, 757, 787, 797, 919, 929]\n"
          ]
        }
      ]
    }
  ]
}